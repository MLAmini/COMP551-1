{
 "cells": [
  {
   "cell_type": "code",
   "execution_count": 96,
   "metadata": {
    "collapsed": true
   },
   "outputs": [],
   "source": [
    "import os, string, re, codecs, random\n",
    "from collections import Counter\n",
    "import numpy as np\n",
    "import pandas as pd\n",
    "from scipy import sparse\n",
    "from sklearn.metrics import f1_score\n",
    "from sklearn.feature_extraction.text import CountVectorizer, TfidfVectorizer\n",
    "from sklearn.naive_bayes import MultinomialNB, BernoulliNB, GaussianNB\n",
    "from sklearn.tree import DecisionTreeClassifier\n",
    "from sklearn.svm import LinearSVC\n",
    "from sklearn.preprocessing import normalize\n",
    "from sklearn.model_selection import GridSearchCV\n",
    "from sklearn.cross_validation import PredefinedSplit"
   ]
  },
  {
   "cell_type": "code",
   "execution_count": 97,
   "metadata": {
    "collapsed": true
   },
   "outputs": [],
   "source": [
    "def warn(*args, **kwargs):\n",
    "\tpass\n",
    "import warnings\n",
    "warnings.warn = warn"
   ]
  },
  {
   "cell_type": "code",
   "execution_count": 98,
   "metadata": {
    "collapsed": true
   },
   "outputs": [],
   "source": [
    "types = ['train.txt', 'valid.txt', 'test.txt', ]\n",
    "average = 'micro'"
   ]
  },
  {
   "cell_type": "markdown",
   "metadata": {},
   "source": [
    "###### preprocess:\n",
    "\tKeyword arguments: \n",
    "\tfile -- string file path (string)\n",
    "\n",
    "\tReturns:\n",
    "\tprocessed file (string)\n",
    "\n",
    "\tthe function reads the file, puts everything in lower case and removes punctuation marks "
   ]
  },
  {
   "cell_type": "code",
   "execution_count": 99,
   "metadata": {
    "collapsed": true
   },
   "outputs": [],
   "source": [
    "def preprocess(file):\n",
    "\ttranslator = str.maketrans(\" \", \" \", string.punctuation)\n",
    "\twith open(file, 'r', encoding=\"utf-8\") as f:\n",
    "\t\ttext = f.read()\n",
    "\ttext = text.lower().replace('\\t', ' ').replace('<br /><br />', ' ').translate(translator)\n",
    "\treturn text"
   ]
  },
  {
   "cell_type": "markdown",
   "metadata": {},
   "source": [
    "###### feature_extraction:\n",
    "\tKeyword arguments: \n",
    "\tname -- set name (IMBD or yelp) - string\n",
    "\tn -- number of features - int\n",
    "\n",
    "\tReturns: \n",
    "\tdictionary {\"words\": ID}\n",
    "\n",
    "\tthe function\n",
    "\t- extracts the top n frequent features with their respective ID. \n",
    "\t- writes output file for feature ID and count \n",
    "\t- writes output files for feature vectors for train, valid, test set "
   ]
  },
  {
   "cell_type": "code",
   "execution_count": 100,
   "metadata": {
    "collapsed": true
   },
   "outputs": [],
   "source": [
    "def feature_extraction(set, n):\n",
    "\tfile = preprocess(ds_path + set + types[0])\n",
    "\tword_list = file.split(\" \")\n",
    "\tcounter = Counter(word_list).most_common(n) #keep the top n most common word\n",
    "\tdict = {}\n",
    "\n",
    "\twriter = open(set.split('-')[0] + '-vocab.txt', 'w')\n",
    "\n",
    "    # save the top features in a output file \"name-vocab.txt\" \n",
    "\t# \"word\" id  count\n",
    "\tfor i in range(n):\n",
    "\t\tword = counter[i][0]\n",
    "\t\tdict[word] = i + 1\n",
    "\t\t\n",
    "\t\ttext = (\"{}\\t{}\\t{}\\n\".format(word, i + 1, counter[i][1]))\n",
    "\t\twriter.write(text)\n",
    "\n",
    "    # write feature vectors for every sample in train, valid and test sets \n",
    "\tfor type in types:\n",
    "\t\tfile = preprocess(ds_path + set + type)\n",
    "\n",
    "\t\texamples = file.split(\"\\n\")[:-1]\n",
    "\t\tds_output = [i[-1] for i in examples]\n",
    "\n",
    "\t\twriter = open(set.split('-')[0] + '-' + type.split('.')[0] + '.txt', 'w')\n",
    "\t\tfor i in range(len(examples)):\n",
    "\t\t    text = \"\"\n",
    "\t\t    for word in examples[i].split(' ')[:-1]:\n",
    "\t\t        if word in dict.keys(): \n",
    "\t\t            text = \"{} {}\".format(text, dict[word])\n",
    "\t\t    if len(text) == 0: text = ' '\n",
    "\t\t    text = \"{}\\t{}\\n\".format(text, ds_output[i])\n",
    "\t\t    writer.write(text[1:])\n",
    "\n",
    "\treturn dict\n"
   ]
  },
  {
   "cell_type": "markdown",
   "metadata": {},
   "source": [
    "###### get_bow:\n",
    "\tKeyword arguments: \n",
    "\tdict -- top features vocabulary (dict)\n",
    "\tname -- name of the set (string) -- IMDB or yelp\n",
    "\n",
    "\tReturns: \n",
    "\t[binary bow vectors, truth], [frequency bow vectors, truth]\n",
    "\n",
    "\tthe function: \n",
    "\t- uses CountVectorizer and the feature vocabulary to construct bag of word vectors"
   ]
  },
  {
   "cell_type": "code",
   "execution_count": 101,
   "metadata": {
    "collapsed": true
   },
   "outputs": [],
   "source": [
    "def get_bow(dict, set):\n",
    "\tbow = {}\n",
    "\tbow_f = {}\n",
    "\tfor type in types: \n",
    "\t\tname = type.split('.')[0]\n",
    "\t\ttext  = preprocess(ds_path + set + type).split('\\n')\n",
    "\n",
    "\t\ttext = list(filter(None, text))\n",
    "\n",
    "\t\toutput = np.array([int(line[-1]) for line in text])\n",
    "\t\texamples = [line[:-1] for line in text]\n",
    "\n",
    "\t\tvectorizer = CountVectorizer(vocabulary = dict.keys())\n",
    "\n",
    "\t\tvectors = np.asarray(vectorizer.fit_transform(examples).todense())\n",
    "\n",
    "        #save freq and binary as sparse vectors for faster training\n",
    "\t\tfreq = sparse.csr_matrix(normalize(vectors))\n",
    "\t\tvectors[vectors > 1] = 1 #set all count > 1 to 1, to binarize the vector\n",
    "\t\tbinary = sparse.csr_matrix(vectors)\n",
    "\n",
    "\t\tbow[name] = [binary, output]\n",
    "\t\tbow_f[name] = [freq, output]\n",
    "\n",
    "\treturn bow, bow_f\n"
   ]
  },
  {
   "cell_type": "markdown",
   "metadata": {},
   "source": [
    "###### train_model: \n",
    "\tKeyword arguments: \n",
    "\tset -- dataset (dictionary)\n",
    "    clf -- sklearn model \n",
    "    params -- fine-tuning parameter \n",
    "\n",
    "    Returns: \n",
    "    f1_score train, f1_score valid, f1_score test, best parameter \n",
    "\n",
    "    the function: \n",
    "    - uses GridSearchCV to find the best hyperparameter for the model\n",
    "    - refits the model with the parameters \n",
    "    - predicts train, valid and test sets \n",
    "    - find respective f1_scores"
   ]
  },
  {
   "cell_type": "code",
   "execution_count": 102,
   "metadata": {},
   "outputs": [],
   "source": [
    "def train_model(set, clf, params):\n",
    "\ttrain = set['train']\n",
    "\tvalid = set['valid']\n",
    "\ttest = set['test']\n",
    "\n",
    "\ttrain_input = train[0]\n",
    "\tvalid_input = valid[0]\n",
    "\ttest_input = test[0]\n",
    "\n",
    "\ttrain_truth = train[1]\n",
    "\tvalid_truth = valid[1]\n",
    "\ttest_truth = test[1]\n",
    "\n",
    "\tcombine_input = sparse.vstack([train_input, valid_input])\n",
    "\tcombine_truth = np.concatenate((train_truth, valid_truth))\n",
    "\n",
    "\tif params != None:\n",
    "\t\tfold = [-1 for i in range(train_input.shape[0])] + [0 for i in range(valid_input.shape[0])]\n",
    "\t\tps = PredefinedSplit(test_fold = fold)\n",
    "\t\tclf = GridSearchCV(clf, params, cv=ps, refit=True)\n",
    "\n",
    "\tclf.fit(combine_input, combine_truth)\n",
    "\n",
    "\tbest_param = None if params==None else clf.best_params_\n",
    "\t\n",
    "\tf1_train = f1_score(train_truth, clf.predict(train_input), average = average)\n",
    "\tf1_valid = f1_score(valid_truth, clf.predict(valid_input), average = average)\n",
    "\tf1_test = f1_score(test_truth, clf.predict(test_input), average = average)\n",
    "\n",
    "\treturn f1_train, f1_valid, f1_test, best_param"
   ]
  },
  {
   "cell_type": "markdown",
   "metadata": {},
   "source": [
    "###### random_class: \n",
    "\tKeyword arguments: \n",
    "\tset -- dataset (dictionary)\n",
    "\n",
    "\tReturns: \n",
    "\tf1_score train, f1_score valid, f1_score test"
   ]
  },
  {
   "cell_type": "code",
   "execution_count": 103,
   "metadata": {
    "collapsed": true
   },
   "outputs": [],
   "source": [
    "def random_class(set):\n",
    "\ttrain_truth = set['train'][1]\n",
    "\tvalid_truth = set['valid'][1]\n",
    "\ttest_truth = set['test'][1]\n",
    "\n",
    "\tclasses = len(np.unique(train_truth))\n",
    "\n",
    "    # predict the output of each set randomly through all classes\n",
    "\tf1_train = f1_score(train_truth, np.rint(np.random.random(len(train_truth)) * (classes - 1)), average = average)\n",
    "\tf1_valid = f1_score(valid_truth, np.rint(np.random.random(len(valid_truth)) * (classes - 1)), average = average)\n",
    "\tf1_test = f1_score(test_truth, np.rint(np.random.random(len(test_truth)) * (classes - 1)), average = average)\n",
    "\treturn f1_train, f1_valid, f1_test"
   ]
  },
  {
   "cell_type": "markdown",
   "metadata": {},
   "source": [
    "##### majority_class:\n",
    "    Keyword arguments:\n",
    "    set -- dataset (dictionary)\n",
    "    Returns:\n",
    "    f1_score train, f1_score valid, f1_score test"
   ]
  },
  {
   "cell_type": "code",
   "execution_count": 104,
   "metadata": {
    "collapsed": true
   },
   "outputs": [],
   "source": [
    "def majority_class(set):\n",
    "\ttrain_truth = set['train'][1]\n",
    "\tvalid_truth = set['valid'][1]\n",
    "\ttest_truth = set['test'][1]\n",
    "\n",
    "    #find the class the majority class\n",
    "\tmaj = np.argmax(np.bincount(train_truth))\n",
    "\n",
    "    #predict the output of every sample to be = majority class\n",
    "\tf1_train = f1_score(train_truth, np.array([maj for i in range(len(train_truth))]), average = average)\n",
    "\tf1_valid = f1_score(valid_truth, np.array([maj for i in range(len(valid_truth))]), average = average)\n",
    "\tf1_test = f1_score(test_truth, np.array([maj for i in range(len(test_truth))]), average = average)\n",
    "\n",
    "\treturn f1_train, f1_valid, f1_test\n"
   ]
  },
  {
   "cell_type": "code",
   "execution_count": 105,
   "metadata": {
    "collapsed": true
   },
   "outputs": [],
   "source": [
    "n = 10000\n",
    "ds_path = './hwk3_datasets/'\n",
    "sets = ['yelp-', 'IMDB-']\n"
   ]
  },
  {
   "cell_type": "markdown",
   "metadata": {},
   "source": [
    "### YELP DATASET "
   ]
  },
  {
   "cell_type": "code",
   "execution_count": 106,
   "metadata": {
    "collapsed": true
   },
   "outputs": [],
   "source": [
    "set = sets[0]\n",
    "vocab_list = feature_extraction(set, n)\n",
    "yelp_bow, yelp_bowf = get_bow(vocab_list, set)\n"
   ]
  },
  {
   "cell_type": "markdown",
   "metadata": {},
   "source": [
    "###### Binary Bag of Words"
   ]
  },
  {
   "cell_type": "code",
   "execution_count": 107,
   "metadata": {},
   "outputs": [
    {
     "name": "stdout",
     "output_type": "stream",
     "text": [
      "yelp- Random Classifier \n",
      "(train, valid, test) =  [0.12314, 0.124, 0.13300000000000001]\n"
     ]
    }
   ],
   "source": [
    "pred = random_class(yelp_bow)\n",
    "print(set, \"Random Classifier \\n(train, valid, test) = \", [round(elem, 5) for elem in pred])"
   ]
  },
  {
   "cell_type": "code",
   "execution_count": 108,
   "metadata": {},
   "outputs": [
    {
     "name": "stdout",
     "output_type": "stream",
     "text": [
      "yelp- Majority Classifier \n",
      "(train, valid, test) =  (0.35257142857142859, 0.35599999999999998, 0.35099999999999998)\n"
     ]
    }
   ],
   "source": [
    "pred = majority_class(yelp_bow)\n",
    "print(set, \"Majority Classifier \\n(train, valid, test) = \", pred)"
   ]
  },
  {
   "cell_type": "code",
   "execution_count": 109,
   "metadata": {},
   "outputs": [
    {
     "ename": "NameError",
     "evalue": "name 'PredefinedSplit' is not defined",
     "output_type": "error",
     "traceback": [
      "\u001b[0;31m---------------------------------------------------------------------------\u001b[0m",
      "\u001b[0;31mNameError\u001b[0m                                 Traceback (most recent call last)",
      "\u001b[0;32m<ipython-input-109-87773a637374>\u001b[0m in \u001b[0;36m<module>\u001b[0;34m()\u001b[0m\n\u001b[1;32m      1\u001b[0m \u001b[0mparam\u001b[0m \u001b[0;34m=\u001b[0m \u001b[0;34m[\u001b[0m\u001b[0;34m{\u001b[0m\u001b[0;34m'alpha'\u001b[0m\u001b[0;34m:\u001b[0m \u001b[0mnp\u001b[0m\u001b[0;34m.\u001b[0m\u001b[0marange\u001b[0m\u001b[0;34m(\u001b[0m\u001b[0;36m0.55\u001b[0m\u001b[0;34m,\u001b[0m \u001b[0;36m0.65\u001b[0m\u001b[0;34m,\u001b[0m \u001b[0;36m0.005\u001b[0m\u001b[0;34m)\u001b[0m\u001b[0;34m}\u001b[0m\u001b[0;34m]\u001b[0m\u001b[0;34m\u001b[0m\u001b[0m\n\u001b[0;32m----> 2\u001b[0;31m \u001b[0mpred\u001b[0m \u001b[0;34m=\u001b[0m \u001b[0mtrain_model\u001b[0m\u001b[0;34m(\u001b[0m\u001b[0myelp_bow\u001b[0m\u001b[0;34m,\u001b[0m \u001b[0mMultinomialNB\u001b[0m\u001b[0;34m(\u001b[0m\u001b[0;34m)\u001b[0m\u001b[0;34m,\u001b[0m \u001b[0mparam\u001b[0m\u001b[0;34m)\u001b[0m\u001b[0;34m\u001b[0m\u001b[0m\n\u001b[0m\u001b[1;32m      3\u001b[0m \u001b[0mprint\u001b[0m\u001b[0;34m(\u001b[0m\u001b[0mset\u001b[0m\u001b[0;34m,\u001b[0m \u001b[0;34m\"Naive Bayes Classifier \\n(train, valid, test) = \"\u001b[0m\u001b[0;34m,\u001b[0m \u001b[0mpred\u001b[0m\u001b[0;34m[\u001b[0m\u001b[0;34m:\u001b[0m\u001b[0;36m3\u001b[0m\u001b[0;34m]\u001b[0m\u001b[0;34m)\u001b[0m\u001b[0;34m\u001b[0m\u001b[0m\n\u001b[1;32m      4\u001b[0m \u001b[0mprint\u001b[0m\u001b[0;34m(\u001b[0m\u001b[0;34m\"best params = {}\\n\"\u001b[0m\u001b[0;34m.\u001b[0m\u001b[0mformat\u001b[0m\u001b[0;34m(\u001b[0m\u001b[0mpred\u001b[0m\u001b[0;34m[\u001b[0m\u001b[0;36m3\u001b[0m\u001b[0;34m]\u001b[0m\u001b[0;34m)\u001b[0m\u001b[0;34m)\u001b[0m\u001b[0;34m\u001b[0m\u001b[0m\n",
      "\u001b[0;32m<ipython-input-102-750c481781cc>\u001b[0m in \u001b[0;36mtrain_model\u001b[0;34m(set, clf, params)\u001b[0m\n\u001b[1;32m     17\u001b[0m         \u001b[0;32mif\u001b[0m \u001b[0mparams\u001b[0m \u001b[0;34m!=\u001b[0m \u001b[0;32mNone\u001b[0m\u001b[0;34m:\u001b[0m\u001b[0;34m\u001b[0m\u001b[0m\n\u001b[1;32m     18\u001b[0m                 \u001b[0mfold\u001b[0m \u001b[0;34m=\u001b[0m \u001b[0;34m[\u001b[0m\u001b[0;34m-\u001b[0m\u001b[0;36m1\u001b[0m \u001b[0;32mfor\u001b[0m \u001b[0mi\u001b[0m \u001b[0;32min\u001b[0m \u001b[0mrange\u001b[0m\u001b[0;34m(\u001b[0m\u001b[0mtrain_input\u001b[0m\u001b[0;34m.\u001b[0m\u001b[0mshape\u001b[0m\u001b[0;34m[\u001b[0m\u001b[0;36m0\u001b[0m\u001b[0;34m]\u001b[0m\u001b[0;34m)\u001b[0m\u001b[0;34m]\u001b[0m \u001b[0;34m+\u001b[0m \u001b[0;34m[\u001b[0m\u001b[0;36m0\u001b[0m \u001b[0;32mfor\u001b[0m \u001b[0mi\u001b[0m \u001b[0;32min\u001b[0m \u001b[0mrange\u001b[0m\u001b[0;34m(\u001b[0m\u001b[0mvalid_input\u001b[0m\u001b[0;34m.\u001b[0m\u001b[0mshape\u001b[0m\u001b[0;34m[\u001b[0m\u001b[0;36m0\u001b[0m\u001b[0;34m]\u001b[0m\u001b[0;34m)\u001b[0m\u001b[0;34m]\u001b[0m\u001b[0;34m\u001b[0m\u001b[0m\n\u001b[0;32m---> 19\u001b[0;31m                 \u001b[0mps\u001b[0m \u001b[0;34m=\u001b[0m \u001b[0mPredefinedSplit\u001b[0m\u001b[0;34m(\u001b[0m\u001b[0mtest_fold\u001b[0m \u001b[0;34m=\u001b[0m \u001b[0mfold\u001b[0m\u001b[0;34m)\u001b[0m\u001b[0;34m\u001b[0m\u001b[0m\n\u001b[0m\u001b[1;32m     20\u001b[0m                 \u001b[0mclf\u001b[0m \u001b[0;34m=\u001b[0m \u001b[0mGridSearchCV\u001b[0m\u001b[0;34m(\u001b[0m\u001b[0mclf\u001b[0m\u001b[0;34m,\u001b[0m \u001b[0mparams\u001b[0m\u001b[0;34m,\u001b[0m \u001b[0mcv\u001b[0m\u001b[0;34m=\u001b[0m\u001b[0mps\u001b[0m\u001b[0;34m,\u001b[0m \u001b[0mrefit\u001b[0m\u001b[0;34m=\u001b[0m\u001b[0;32mTrue\u001b[0m\u001b[0;34m)\u001b[0m\u001b[0;34m\u001b[0m\u001b[0m\n\u001b[1;32m     21\u001b[0m \u001b[0;34m\u001b[0m\u001b[0m\n",
      "\u001b[0;31mNameError\u001b[0m: name 'PredefinedSplit' is not defined"
     ]
    }
   ],
   "source": [
    "param = [{'alpha': np.arange(0.55, 0.65, 0.005)}]\n",
    "pred = train_model(yelp_bow, MultinomialNB(), param)\n",
    "print(set, \"Naive Bayes Classifier \\n(train, valid, test) = \", pred[:3])\n",
    "print(\"best params = {}\\n\".format(pred[3]))"
   ]
  },
  {
   "cell_type": "code",
   "execution_count": null,
   "metadata": {},
   "outputs": [],
   "source": [
    "param = [{'max_iter': np.arange(550, 570, 5)}]\n",
    "pred = train_model(yelp_bow, LinearSVC(), param)\n",
    "print(set, \"Linear SVM Classifier \\n(train, valid, test) = \", pred[:3])\n",
    "print(\"best params = {}\".format(pred[3]))"
   ]
  },
  {
   "cell_type": "code",
   "execution_count": null,
   "metadata": {},
   "outputs": [],
   "source": [
    "param = [{'max_depth': np.arange(10, 13), 'max_features': np.arange(2900, 3500, 200), 'max_leaf_nodes': np.arange(4000, 5000, 250)}]\n",
    "pred = train_model(yelp_bow, DecisionTreeClassifier(), param)\n",
    "print(set, \"Decision Tree \\n(train, valid, test) = \", pred[:3])\n",
    "print(\"best params = {}\\n\".format(pred[3]))"
   ]
  },
  {
   "cell_type": "markdown",
   "metadata": {},
   "source": [
    "###### Frequency Bag of Words"
   ]
  },
  {
   "cell_type": "code",
   "execution_count": null,
   "metadata": {},
   "outputs": [],
   "source": [
    "pred = random_class(yelp_bowf)\n",
    "print(set, \"Random Classifier \\n(train, valid, test) = \", [round(elem, 5) for elem in pred])"
   ]
  },
  {
   "cell_type": "code",
   "execution_count": null,
   "metadata": {},
   "outputs": [],
   "source": [
    "pred = majority_class(yelp_bowf)\n",
    "print(set, \"Majority Classifier \\n(train, valid, test) = \", pred)"
   ]
  },
  {
   "cell_type": "code",
   "execution_count": null,
   "metadata": {},
   "outputs": [],
   "source": [
    "param = [{'alpha': np.arange(0.6, 0.75, 0.01)}]\n",
    "pred = train_model(yelp_bowf, MultinomialNB(), param)\n",
    "print(set, \"Naive Bayes Classifier \\n(train, valid, test) = \", pred[:3])\n",
    "print(\"best params = {}\\n\".format(pred[3]))"
   ]
  },
  {
   "cell_type": "code",
   "execution_count": null,
   "metadata": {},
   "outputs": [],
   "source": [
    "param = [{'max_iter': np.arange(230, 270, 10)}]\n",
    "pred = train_model(yelp_bowf, LinearSVC(), param)\n",
    "print(set, \"Linear SVM Classifier \\n(train, valid, test) = \", pred[:3])\n",
    "print(\"best params = {}\".format(pred[3]))"
   ]
  },
  {
   "cell_type": "code",
   "execution_count": null,
   "metadata": {},
   "outputs": [],
   "source": [
    "yelp_bowf['train'][0] = yelp_bowf['train'][0].todense()\n",
    "yelp_bowf['valid'][0] = yelp_bowf['valid'][0].todense()\n",
    "yelp_bowf['test'][0] = yelp_bowf['test'][0].todense()\n",
    "\n",
    "pred = train_model(yelp_bowf, GaussianNB(), None)\n",
    "print(set, \"Naive Bayes\\n(train, valid, test) = \", pred[:3])"
   ]
  },
  {
   "cell_type": "markdown",
   "metadata": {},
   "source": [
    "<br>\n",
    "\n",
    "### IMBD DATASET\n",
    "\n",
    "<br>"
   ]
  },
  {
   "cell_type": "markdown",
   "metadata": {},
   "source": [
    "###### Binary Bag of Words"
   ]
  },
  {
   "cell_type": "code",
   "execution_count": null,
   "metadata": {
    "collapsed": true
   },
   "outputs": [],
   "source": [
    "set = sets[1]\n",
    "vocab_list = feature_extraction(set, n)\n",
    "IMDB_bow, IMDB_bowf = get_bow(vocab_list, set)"
   ]
  },
  {
   "cell_type": "code",
   "execution_count": null,
   "metadata": {},
   "outputs": [],
   "source": [
    "pred = random_class(IMDB_bow)\n",
    "print(set, \"Random Classifier \\n(train, valid, test) = \", pred)"
   ]
  },
  {
   "cell_type": "code",
   "execution_count": null,
   "metadata": {},
   "outputs": [],
   "source": [
    "pred = majority_class(IMDB_bow)\n",
    "print(set, \"Majority Classifier \\n(train, valid, test) = \", pred)"
   ]
  },
  {
   "cell_type": "code",
   "execution_count": null,
   "metadata": {},
   "outputs": [],
   "source": [
    "param = [{'alpha': np.arange(0.6, 0.7, 0.01)}]\n",
    "pred = train_model(IMDB_bow, BernoulliNB(), param)\n",
    "print(set, \"Naive Bayes Classifier \\n(train, valid, test) = \", pred[:3])\n",
    "print(\"best params = {}\\n\".format(pred[3]))"
   ]
  },
  {
   "cell_type": "code",
   "execution_count": null,
   "metadata": {},
   "outputs": [],
   "source": [
    "param = [{'max_depth': [i for i in range(15, 20)], 'max_features': [1000 * i for i in range(2, 7)], 'max_leaf_nodes': [1000 * i for i in range(3, 6)]}]\n",
    "pred = train_model(IMDB_bow, DecisionTreeClassifier(), param)\n",
    "print(set, \"Decision Tree \\n(train, valid, test) = \", pred[:3])\n",
    "print(\"best params = {}\\n\".format(pred[3]))"
   ]
  },
  {
   "cell_type": "code",
   "execution_count": null,
   "metadata": {},
   "outputs": [],
   "source": [
    "param = [{'max_iter': np.arange(750, 1250, 250)}]\n",
    "pred = train_model(IMDB_bow, LinearSVC(), param)\n",
    "print(set, \"Linear SVM Classifier \\n(train, valid, test) = \", pred[:3])\n",
    "print(\"best params = {}\".format(pred[3]))"
   ]
  },
  {
   "cell_type": "markdown",
   "metadata": {},
   "source": [
    "###### Frequency Bag of Words"
   ]
  },
  {
   "cell_type": "code",
   "execution_count": null,
   "metadata": {},
   "outputs": [],
   "source": [
    "pred = random_class(IMDB_bowf)\n",
    "print(set, \"Random Classifier \\n(train, valid, test) = \", pred)"
   ]
  },
  {
   "cell_type": "code",
   "execution_count": null,
   "metadata": {},
   "outputs": [],
   "source": [
    "pred = majority_class(IMDB_bowf)\n",
    "print(set, \"Majority Classifier \\n(train, valid, test) = \", pred)"
   ]
  },
  {
   "cell_type": "code",
   "execution_count": null,
   "metadata": {},
   "outputs": [],
   "source": [
    "param = [{'max_depth': [i for i in range(10, 15)], 'max_features': [1000 * i for i in range(2, 5)], 'max_leaf_nodes': [1000 * i for i in range(3, 6)]}]\n",
    "pred = train_model(IMDB_bowf, DecisionTreeClassifier(), param)\n",
    "print(set, \"Decision Tree \\n(train, valid, test) = \", pred[:3])\n",
    "print(\"best params = {}\\n\".format(pred[3]))"
   ]
  },
  {
   "cell_type": "code",
   "execution_count": null,
   "metadata": {},
   "outputs": [],
   "source": [
    "param = [{'max_iter': [500 * i for i in range(5)]}]\n",
    "pred = train_model(IMDB_bowf, LinearSVC(), param)\n",
    "print(set, \"Linear SVM Classifier \\n(train, valid, test) = \", pred[:3])\n",
    "print(\"best params = {}\".format(pred[3]))"
   ]
  },
  {
   "cell_type": "code",
   "execution_count": null,
   "metadata": {},
   "outputs": [],
   "source": [
    "IMDB_bowf['train'][0] = IMDB_bowf['train'][0].todense()\n",
    "IMDB_bowf['valid'][0] = IMDB_bowf['valid'][0].todense()\n",
    "IMDB_bowf['test'][0] = IMDB_bowf['test'][0].todense()\n",
    "\n",
    "pred = train_model(IMDB_bowf, GaussianNB(), None)\n",
    "print(set, \"Naive Bayes Classifier \\n(train, valid, test) = \", pred[:3])"
   ]
  }
 ],
 "metadata": {
  "kernelspec": {
   "display_name": "Python 3",
   "language": "python",
   "name": "python3"
  },
  "language_info": {
   "codemirror_mode": {
    "name": "ipython",
    "version": 3
   },
   "file_extension": ".py",
   "mimetype": "text/x-python",
   "name": "python",
   "nbconvert_exporter": "python",
   "pygments_lexer": "ipython3",
   "version": "3.6.3"
  }
 },
 "nbformat": 4,
 "nbformat_minor": 2
}
