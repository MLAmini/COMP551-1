{
 "cells": [
  {
   "cell_type": "code",
   "execution_count": 11,
   "metadata": {
    "collapsed": true
   },
   "outputs": [],
   "source": [
    "import os, string, re, codecs, random\n",
    "from collections import Counter\n",
    "import numpy as np\n",
    "import pandas as pd\n",
    "from scipy import sparse\n",
    "from sklearn.metrics import f1_score\n",
    "from sklearn.feature_extraction.text import CountVectorizer, TfidfVectorizer\n",
    "from sklearn.naive_bayes import MultinomialNB, BernoulliNB, GaussianNB\n",
    "from sklearn.tree import DecisionTreeClassifier\n",
    "from sklearn.svm import LinearSVC\n",
    "from sklearn.preprocessing import normalize\n",
    "from sklearn.model_selection import GridSearchCV"
   ]
  },
  {
   "cell_type": "code",
   "execution_count": 2,
   "metadata": {
    "collapsed": true
   },
   "outputs": [],
   "source": [
    "def warn(*args, **kwargs):\n",
    "\tpass\n",
    "import warnings\n",
    "warnings.warn = warn"
   ]
  },
  {
   "cell_type": "code",
   "execution_count": 1,
   "metadata": {
    "collapsed": true
   },
   "outputs": [],
   "source": [
    "types = ['train.txt', 'valid.txt', 'test.txt', ]\n",
    "average = 'micro'"
   ]
  },
  {
   "cell_type": "code",
   "execution_count": 2,
   "metadata": {
    "collapsed": true
   },
   "outputs": [],
   "source": [
    "def preprocess(file):\n",
    "\ttranslator = str.maketrans(\" \", \" \", string.punctuation)\n",
    "\twith open(file, 'r', encoding=\"utf-8\") as f:\n",
    "\t\ttext = f.read()\n",
    "\ttext = text.lower().replace('\\t', ' ').replace('<br /><br />', ' ').translate(translator)\n",
    "\treturn text"
   ]
  },
  {
   "cell_type": "code",
   "execution_count": 14,
   "metadata": {
    "collapsed": true
   },
   "outputs": [],
   "source": [
    "def feature_extraction(set, n):\n",
    "\tfile = preprocess(ds_path + set + types[0])\n",
    "\tword_list = file.split(\" \")\n",
    "\tcounter = Counter(word_list).most_common(n)\n",
    "\tdict = {}\n",
    "\n",
    "\twriter = open(set.split('-')[0] + '-vocab.txt', 'w')\n",
    "\n",
    "\t# save top words\n",
    "\tfor i in range(n):\n",
    "\t\tword = counter[i][0]\n",
    "\t\tdict[word] = i + 1\n",
    "\t\t\n",
    "\t\ttext = (\"{}\\t{}\\t{}\\n\".format(word, i + 1, counter[i][1]))\n",
    "\t\twriter.write(text)\n",
    "\n",
    "\tfor type in types:\n",
    "\t\tfile = preprocess(ds_path + set + type)\n",
    "\n",
    "\t\texamples = file.split(\"\\n\")[:-1]\n",
    "\t\tds_output = [i[-1] for i in examples]\n",
    "\n",
    "\t\twriter = open(set.split('-')[0] + '-' + type.split('.')[0] + '.txt', 'w')\n",
    "\t\tfor i in range(len(examples)):\n",
    "\t\t    text = \"\"\n",
    "\t\t    for word in examples[i].split(' ')[:-1]:\n",
    "\t\t        if word in dict.keys(): \n",
    "\t\t            text = \"{} {}\".format(text, dict[word])\n",
    "\t\t    if len(text) == 0: text = ' '\n",
    "\t\t    text = \"{}\\t{}\\n\".format(text, ds_output[i])\n",
    "\t\t    writer.write(text[1:])\n",
    "\n",
    "\treturn dict\n"
   ]
  },
  {
   "cell_type": "code",
   "execution_count": 4,
   "metadata": {
    "collapsed": true
   },
   "outputs": [],
   "source": [
    "def get_bow(dict, set):\n",
    "\tbow = {}\n",
    "\tbow_f = {}\n",
    "\tfor type in types: \n",
    "\t\tname = type.split('.')[0]\n",
    "\t\ttext  = preprocess(ds_path + set + type).split('\\n')\n",
    "\n",
    "\t\ttext = list(filter(None, text))\n",
    "\n",
    "\t\toutput = np.array([int(line[-1]) for line in text])\n",
    "\t\texamples = [line[:-1] for line in text]\n",
    "\n",
    "\t\tvectorizer = CountVectorizer(vocabulary = dict.keys())\n",
    "\n",
    "\t\tvectors = np.asarray(vectorizer.fit_transform(examples).todense())\n",
    "\n",
    "\t\tfreq = sparse.csr_matrix(normalize(vectors))\n",
    "\t\tvectors[vectors > 1] = 1\n",
    "\t\tbinary = sparse.csr_matrix(vectors)\n",
    "\n",
    "\t\tbow[name] = [binary, output]\n",
    "\t\tbow_f[name] = [freq, output]\n",
    "\n",
    "\treturn bow, bow_f\n"
   ]
  },
  {
   "cell_type": "code",
   "execution_count": 5,
   "metadata": {
    "collapsed": true
   },
   "outputs": [],
   "source": [
    "def train_model(set, clf, params, n_folds):\n",
    "\ttrain = set['train']\n",
    "\tvalid = set['valid']\n",
    "\ttest = set['test']\n",
    "\n",
    "\ttrain_input = train[0]\n",
    "\tvalid_input = valid[0]\n",
    "\ttest_input = test[0]\n",
    "\n",
    "\ttrain_truth = train[1]\n",
    "\tvalid_truth = valid[1]\n",
    "\ttest_truth = test[1]\n",
    "\n",
    "\tif params != None:\n",
    "\t\tclf = GridSearchCV(clf, params, cv=n_folds, refit=True)\n",
    "\tclf.fit(train_input, train_truth)\n",
    "\n",
    "\tbest_param = None if params==None else clf.best_params_\n",
    "\t\n",
    "\tf1_train = f1_score(train_truth, clf.predict(train_input), average = average)\n",
    "\tf1_valid = f1_score(valid_truth, clf.predict(valid_input), average = average)\n",
    "\tf1_test = f1_score(test_truth, clf.predict(test_input), average = average)\n",
    "\n",
    "\treturn f1_train, f1_valid, f1_test, best_param\n"
   ]
  },
  {
   "cell_type": "code",
   "execution_count": 6,
   "metadata": {
    "collapsed": true
   },
   "outputs": [],
   "source": [
    "def random_class(set):\n",
    "\ttrain_truth = set['train'][1]\n",
    "\tvalid_truth = set['valid'][1]\n",
    "\ttest_truth = set['test'][1]\n",
    "\n",
    "\tclasses = len(np.unique(train_truth))\n",
    "\n",
    "\tf1_train = f1_score(train_truth, np.rint(np.random.random(len(train_truth)) * (classes - 1)), average = average)\n",
    "\tf1_valid = f1_score(valid_truth, np.rint(np.random.random(len(valid_truth)) * (classes - 1)), average = average)\n",
    "\tf1_test = f1_score(test_truth, np.rint(np.random.random(len(test_truth)) * (classes - 1)), average = average)\n",
    "\treturn f1_train, f1_valid, f1_test\n"
   ]
  },
  {
   "cell_type": "code",
   "execution_count": 7,
   "metadata": {
    "collapsed": true
   },
   "outputs": [],
   "source": [
    "def majority_class(set):\n",
    "\ttrain_truth = set['train'][1]\n",
    "\tvalid_truth = set['valid'][1]\n",
    "\ttest_truth = set['test'][1]\n",
    "\n",
    "\tmaj = np.argmax(np.bincount(train_truth))\n",
    "\n",
    "\tf1_train = f1_score(train_truth, np.array([maj for i in range(len(train_truth))]), average = average)\n",
    "\tf1_valid = f1_score(valid_truth, np.array([maj for i in range(len(valid_truth))]), average = average)\n",
    "\tf1_test = f1_score(test_truth, np.array([maj for i in range(len(test_truth))]), average = average)\n",
    "\n",
    "\treturn f1_train, f1_valid, f1_test\n"
   ]
  },
  {
   "cell_type": "code",
   "execution_count": 8,
   "metadata": {
    "collapsed": true
   },
   "outputs": [],
   "source": [
    "n = 10000\n",
    "ds_path = './hwk3_datasets/'\n",
    "sets = ['yelp-', 'IMDB-']\n"
   ]
  },
  {
   "cell_type": "markdown",
   "metadata": {},
   "source": [
    "### YELP DATASET "
   ]
  },
  {
   "cell_type": "code",
   "execution_count": 15,
   "metadata": {},
   "outputs": [],
   "source": [
    "set = sets[0]\n",
    "vocab_list = feature_extraction(set, n)\n",
    "yelp_bow, yelp_bowf = get_bow(vocab_list, set)\n"
   ]
  },
  {
   "cell_type": "markdown",
   "metadata": {},
   "source": [
    "###### Binary Bag of Words"
   ]
  },
  {
   "cell_type": "code",
   "execution_count": 23,
   "metadata": {},
   "outputs": [
    {
     "name": "stdout",
     "output_type": "stream",
     "text": [
      "yelp- Random Classifier \n",
      "(train, valid, test) =  [0.12642999999999999, 0.13300000000000001, 0.123]\n",
      "yelp- Random Classifier train f1_score 0.12642857142857142\n",
      "yelp- Random Classifier valid f1_score 0.133\n",
      "yelp- Random Classifier test f1_score 0.123\n",
      "\n"
     ]
    }
   ],
   "source": [
    "pred = random_class(yelp_bow)\n",
    "print(set, \"Random Classifier \\n(train, valid, test) = \", [round(elem, 5) for elem in pred])"
   ]
  },
  {
   "cell_type": "code",
   "execution_count": 29,
   "metadata": {},
   "outputs": [
    {
     "name": "stdout",
     "output_type": "stream",
     "text": [
      "yelp- Majority Classifier \n",
      "(train, valid, test) =  (0.35257142857142859, 0.35599999999999998, 0.35099999999999998)\n"
     ]
    }
   ],
   "source": [
    "pred = majority_class(yelp_bow)\n",
    "print(set, \"Majority Classifier \\n(train, valid, test) = \", pred)"
   ]
  },
  {
   "cell_type": "code",
   "execution_count": 30,
   "metadata": {},
   "outputs": [
    {
     "name": "stdout",
     "output_type": "stream",
     "text": [
      "yelp- Naive Bayes Classifier \n",
      "(train, valid, test) =  (0.62471428571428567, 0.39600000000000002, 0.41549999999999998)\n",
      "best params = {'alpha': 0.60999999999999999}\n",
      "\n"
     ]
    }
   ],
   "source": [
    "param = [{'alpha': np.arange(0.6, 0.8, 0.01)}]\n",
    "pred = train_model(yelp_bow, BernoulliNB(), param, 5)\n",
    "print(set, \"Naive Bayes Classifier \\n(train, valid, test) = \", pred[:3])\n",
    "print(\"best params = {}\\n\".format(pred[3]))"
   ]
  },
  {
   "cell_type": "code",
   "execution_count": 41,
   "metadata": {},
   "outputs": [
    {
     "name": "stdout",
     "output_type": "stream",
     "text": [
      "yelp- Linear SVM Classifier \n",
      "(train, valid, test) =  (0.99642857142857144, 0.45700000000000002, 0.44700000000000001)\n",
      "best params = {'max_iter': 400}\n"
     ]
    }
   ],
   "source": [
    "param = [{'max_iter': np.arange(400, 600, 50)}]\n",
    "pred = train_model(yelp_bow, LinearSVC(), param, 5)\n",
    "print(set, \"Linear SVM Classifier \\n(train, valid, test) = \", pred[:3])\n",
    "print(\"best params = {}\".format(pred[3]))"
   ]
  },
  {
   "cell_type": "code",
   "execution_count": 33,
   "metadata": {},
   "outputs": [
    {
     "name": "stdout",
     "output_type": "stream",
     "text": [
      "yelp- Decision Tree \n",
      "(train, valid, test) =  (0.56571428571428573, 0.38400000000000001, 0.38800000000000001)\n",
      "best params = {'max_depth': 11, 'max_features': 2000, 'max_leaf_nodes': 5000}\n",
      "\n"
     ]
    }
   ],
   "source": [
    "param = [{'max_depth': [i for i in range(10, 20)], 'max_features': [1000 * i for i in range(2, 7)], 'max_leaf_nodes': [1000 * i for i in range(3, 6)]}]\n",
    "pred = train_model(yelp_bow, DecisionTreeClassifier(), param, 5)\n",
    "print(set, \"Decision Tree \\n(train, valid, test) = \", pred[:3])\n",
    "print(\"best params = {}\\n\".format(pred[3]))"
   ]
  },
  {
   "cell_type": "markdown",
   "metadata": {},
   "source": [
    "###### Frequency Bag of Words"
   ]
  },
  {
   "cell_type": "code",
   "execution_count": 34,
   "metadata": {},
   "outputs": [
    {
     "name": "stdout",
     "output_type": "stream",
     "text": [
      "yelp- Random Classifier \n",
      "(train, valid, test) =  [0.12014, 0.14000000000000001, 0.1195]\n"
     ]
    }
   ],
   "source": [
    "pred = random_class(yelp_bowf)\n",
    "print(set, \"Random Classifier \\n(train, valid, test) = \", [round(elem, 5) for elem in pred])"
   ]
  },
  {
   "cell_type": "code",
   "execution_count": 35,
   "metadata": {},
   "outputs": [
    {
     "name": "stdout",
     "output_type": "stream",
     "text": [
      "yelp- Majority Classifier \n",
      "(train, valid, test) =  (0.35257142857142859, 0.35599999999999998, 0.35099999999999998)\n"
     ]
    }
   ],
   "source": [
    "pred = majority_class(yelp_bowf)\n",
    "print(set, \"Majority Classifier \\n(train, valid, test) = \", pred)"
   ]
  },
  {
   "cell_type": "code",
   "execution_count": 38,
   "metadata": {},
   "outputs": [
    {
     "name": "stdout",
     "output_type": "stream",
     "text": [
      "yelp- Naive Bayes Classifier \n",
      "(train, valid, test) =  (0.62471428571428567, 0.39600000000000002, 0.41549999999999998)\n",
      "best params = {'alpha': 0.60999999999999999}\n",
      "\n"
     ]
    }
   ],
   "source": [
    "param = [{'alpha': np.arange(0.6, 0.8, 0.01)}]\n",
    "pred = train_model(yelp_bowf, BernoulliNB(), param, 5)\n",
    "print(set, \"Naive Bayes Classifier \\n(train, valid, test) = \", pred[:3])\n",
    "print(\"best params = {}\\n\".format(pred[3]))"
   ]
  },
  {
   "cell_type": "code",
   "execution_count": 37,
   "metadata": {},
   "outputs": [
    {
     "name": "stdout",
     "output_type": "stream",
     "text": [
      "yelp- Linear SVM Classifier \n",
      "(train, valid, test) =  (0.81742857142857139, 0.51200000000000001, 0.52400000000000002)\n",
      "best params = {'max_iter': 500}\n"
     ]
    }
   ],
   "source": [
    "param = [{'max_iter': [500 * i for i in range(5)]}]\n",
    "pred = train_model(yelp_bowf, LinearSVC(), param, 5)\n",
    "print(set, \"Linear SVM Classifier \\n(train, valid, test) = \", pred[:3])\n",
    "print(\"best params = {}\".format(pred[3]))"
   ]
  },
  {
   "cell_type": "code",
   "execution_count": 40,
   "metadata": {},
   "outputs": [
    {
     "name": "stdout",
     "output_type": "stream",
     "text": [
      "yelp- Naive Bayes\n",
      "(train, valid, test) =  (0.73857142857142843, 0.27300000000000002, 0.28499999999999998)\n"
     ]
    }
   ],
   "source": [
    "yelp_bowf['train'][0] = yelp_bowf['train'][0].todense()\n",
    "yelp_bowf['valid'][0] = yelp_bowf['valid'][0].todense()\n",
    "yelp_bowf['test'][0] = yelp_bowf['test'][0].todense()\n",
    "\n",
    "pred = train_model(yelp_bowf, GaussianNB(), None, 5)\n",
    "print(set, \"Naive Bayes\\n(train, valid, test) = \", pred[:3])"
   ]
  },
  {
   "cell_type": "markdown",
   "metadata": {},
   "source": [
    "<br>\n",
    "\n",
    "### IMBD DATASET\n",
    "\n",
    "<br>"
   ]
  },
  {
   "cell_type": "markdown",
   "metadata": {},
   "source": [
    "###### Binary Bag of Words"
   ]
  },
  {
   "cell_type": "code",
   "execution_count": null,
   "metadata": {
    "collapsed": true
   },
   "outputs": [],
   "source": [
    "set = sets[1]\n",
    "vocab_list = feature_extraction(set, n)\n",
    "IMDB_bow, IMDB_bowf = get_bow(vocab_list, set)"
   ]
  },
  {
   "cell_type": "code",
   "execution_count": 42,
   "metadata": {},
   "outputs": [
    {
     "ename": "NameError",
     "evalue": "name 'IMDB_bow' is not defined",
     "output_type": "error",
     "traceback": [
      "\u001b[0;31m---------------------------------------------------------------------------\u001b[0m",
      "\u001b[0;31mNameError\u001b[0m                                 Traceback (most recent call last)",
      "\u001b[0;32m<ipython-input-42-7ecce9c75610>\u001b[0m in \u001b[0;36m<module>\u001b[0;34m()\u001b[0m\n\u001b[0;32m----> 1\u001b[0;31m \u001b[0mpred\u001b[0m \u001b[0;34m=\u001b[0m \u001b[0mrandom_class\u001b[0m\u001b[0;34m(\u001b[0m\u001b[0mIMDB_bow\u001b[0m\u001b[0;34m)\u001b[0m\u001b[0;34m\u001b[0m\u001b[0m\n\u001b[0m\u001b[1;32m      2\u001b[0m \u001b[0mprint\u001b[0m\u001b[0;34m(\u001b[0m\u001b[0mset\u001b[0m\u001b[0;34m,\u001b[0m \u001b[0;34m\"Random Classifier \\n(train, valid, test) = \"\u001b[0m\u001b[0;34m,\u001b[0m \u001b[0mpred\u001b[0m\u001b[0;34m)\u001b[0m\u001b[0;34m\u001b[0m\u001b[0m\n",
      "\u001b[0;31mNameError\u001b[0m: name 'IMDB_bow' is not defined"
     ]
    }
   ],
   "source": [
    "pred = random_class(IMDB_bow)\n",
    "print(set, \"Random Classifier \\n(train, valid, test) = \", pred)"
   ]
  },
  {
   "cell_type": "code",
   "execution_count": null,
   "metadata": {
    "collapsed": true
   },
   "outputs": [],
   "source": [
    "pred = majority_class(IMDB_bow)\n",
    "print(set, \"Majority Classifier \\n(train, valid, test) = \", pred)"
   ]
  },
  {
   "cell_type": "code",
   "execution_count": null,
   "metadata": {
    "collapsed": true
   },
   "outputs": [],
   "source": [
    "param = [{'alpha': np.arange(0.6, 0.8, 0.01)}]\n",
    "pred = train_model(IMDB_bow, BernoulliNB(), param, 5)\n",
    "print(set, \"Naive Bayes Classifier \\n(train, valid, test) = \", pred[:3])\n",
    "print(\"best params = {}\\n\".format(pred[3]))"
   ]
  },
  {
   "cell_type": "code",
   "execution_count": null,
   "metadata": {
    "collapsed": true
   },
   "outputs": [],
   "source": [
    "param = [{'max_depth': [i for i in range(10, 20)], 'max_features': [1000 * i for i in range(2, 7)], 'max_leaf_nodes': [1000 * i for i in range(3, 6)]}]\n",
    "pred = train_model(IMDB_bow, DecisionTreeClassifier(), param, 5)\n",
    "print(set, \"Decision Tree \\n(train, valid, test) = \", pred[:3])\n",
    "print(\"best params = {}\\n\".format(pred[3]))"
   ]
  },
  {
   "cell_type": "code",
   "execution_count": null,
   "metadata": {
    "collapsed": true
   },
   "outputs": [],
   "source": [
    "param = [{'max_iter': [500 * i for i in range(5)]}]\n",
    "pred = train_model(IMDB_bow, LinearSVC(), param, 5)\n",
    "print(set, \"Linear SVM Classifier \\n(train, valid, test) = \", pred[:3])\n",
    "print(\"best params = {}\".format(pred[3]))"
   ]
  },
  {
   "cell_type": "markdown",
   "metadata": {},
   "source": [
    "###### Frequency Bag of Words"
   ]
  },
  {
   "cell_type": "code",
   "execution_count": null,
   "metadata": {
    "collapsed": true
   },
   "outputs": [],
   "source": [
    "pred = random_class(IMDB_bowf)\n",
    "print(set, \"Random Classifier \\n(train, valid, test) = \", pred)"
   ]
  },
  {
   "cell_type": "code",
   "execution_count": null,
   "metadata": {
    "collapsed": true
   },
   "outputs": [],
   "source": [
    "pred = majority_class(IMDB_bowf)\n",
    "print(set, \"Majority Classifier \\n(train, valid, test) = \", pred)"
   ]
  },
  {
   "cell_type": "code",
   "execution_count": null,
   "metadata": {
    "collapsed": true
   },
   "outputs": [],
   "source": [
    "param = [{'max_depth': [i for i in range(10, 20)], 'max_features': [1000 * i for i in range(2, 7)], 'max_leaf_nodes': [1000 * i for i in range(3, 6)]}]\n",
    "pred = train_model(IMDB_bowf, DecisionTreeClassifier(), param, 5)\n",
    "print(set, \"Decision Tree \\n(train, valid, test) = \", pred[:3])\n",
    "print(\"best params = {}\\n\".format(pred[3]))"
   ]
  },
  {
   "cell_type": "code",
   "execution_count": null,
   "metadata": {
    "collapsed": true
   },
   "outputs": [],
   "source": [
    "param = [{'max_iter': [500 * i for i in range(5)]}]\n",
    "pred = train_model(IMDB_bowf, LinearSVC(), param, 5)\n",
    "print(set, \"Linear SVM Classifier \\n(train, valid, test) = \", pred[:3])\n",
    "print(\"best params = {}\".format(pred[3]))"
   ]
  },
  {
   "cell_type": "code",
   "execution_count": null,
   "metadata": {
    "collapsed": true
   },
   "outputs": [],
   "source": [
    "IMDB_bowf['train'][0] = IMDB_bowf['train'][0].todense()\n",
    "IMDB_bowf['valid'][0] = IMDB_bowf['valid'][0].todense()\n",
    "IMDB_bowf['test'][0] = IMDB_bowf['test'][0].todense()\n",
    "\n",
    "pred = train_model(IMDB_bowf, GaussianNB(), None, 5)\n",
    "print(set, \"Naive Bayes Classifier \\n(train, valid, test) = \", pred[:3])"
   ]
  },
  {
   "cell_type": "code",
   "execution_count": null,
   "metadata": {
    "collapsed": true
   },
   "outputs": [],
   "source": []
  }
 ],
 "metadata": {
  "kernelspec": {
   "display_name": "Python 3",
   "language": "python",
   "name": "python3"
  },
  "language_info": {
   "codemirror_mode": {
    "name": "ipython",
    "version": 3
   },
   "file_extension": ".py",
   "mimetype": "text/x-python",
   "name": "python",
   "nbconvert_exporter": "python",
   "pygments_lexer": "ipython3",
   "version": "3.6.3"
  }
 },
 "nbformat": 4,
 "nbformat_minor": 2
}
